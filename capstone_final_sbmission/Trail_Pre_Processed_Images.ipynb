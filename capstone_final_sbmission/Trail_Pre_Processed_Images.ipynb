{
  "cells": [
    {
      "cell_type": "code",
      "execution_count": null,
      "id": "1931ddc0-9685-483a-812f-b1dfb623bb5a",
      "metadata": {
        "id": "1931ddc0-9685-483a-812f-b1dfb623bb5a",
        "outputId": "60a10299-2495-470e-a6c2-0c1c0b6fbe36"
      },
      "outputs": [
        {
          "name": "stdout",
          "output_type": "stream",
          "text": [
            "GPU Available - Apple Silicon Metal Performance Shaders\n",
            "TensorFlow version: 2.16.2\n",
            "Keras version: 3.8.0\n"
          ]
        }
      ],
      "source": [
        "import os\n",
        "import shutil\n",
        "import numpy as np\n",
        "import pandas as pd\n",
        "\n",
        "from sklearn.metrics import classification_report, roc_auc_score\n",
        "import matplotlib.pyplot as plt\n",
        "\n",
        "import tensorflow as tf\n",
        "from tensorflow import keras\n",
        "\n",
        "\n",
        "import os\n",
        "import pandas as pd\n",
        "import numpy as np\n",
        "import matplotlib.pyplot as plt\n",
        "import seaborn as sns\n",
        "from PIL import Image, ImageDraw\n",
        "import json\n",
        "import pickle\n",
        "from pathlib import Path\n",
        "from typing import Dict, List, Tuple, Optional\n",
        "import warnings\n",
        "\n",
        "warnings.filterwarnings('ignore')\n",
        "\n",
        "# TensorFlow/Keras imports (optimized for Apple Silicon)\n",
        "import tensorflow as tf\n",
        "from tensorflow import keras\n",
        "from tensorflow.keras.utils import Sequence\n",
        "from sklearn.model_selection import train_test_split\n",
        "from sklearn.preprocessing import LabelEncoder\n",
        "\n",
        "# Enable Metal Performance Shaders for Apple Silicon\n",
        "if tf.config.list_physical_devices('GPU'):\n",
        "    print(\"GPU Available - Apple Silicon Metal Performance Shaders\")\n",
        "else:\n",
        "    print(\"Running on CPU\")\n",
        "\n",
        "print(f\"TensorFlow version: {tf.__version__}\")\n",
        "print(f\"Keras version: {keras.__version__}\")"
      ]
    },
    {
      "cell_type": "code",
      "execution_count": null,
      "id": "8f8322a9-83d6-4d70-90a4-5e8c715c31b9",
      "metadata": {
        "id": "8f8322a9-83d6-4d70-90a4-5e8c715c31b9"
      },
      "outputs": [],
      "source": [
        "seed = 42\n",
        "tf.random.set_seed(seed)\n",
        "np.random.seed(seed)\n",
        "\n",
        "batch_size = 16"
      ]
    },
    {
      "cell_type": "code",
      "execution_count": null,
      "id": "1d540619-99b0-4d43-ade7-2fa029241b9e",
      "metadata": {
        "id": "1d540619-99b0-4d43-ade7-2fa029241b9e",
        "outputId": "a5239c9b-ce5a-4249-ef95-6d5b1f9d6c23"
      },
      "outputs": [
        {
          "name": "stdout",
          "output_type": "stream",
          "text": [
            "Found 76826 files belonging to 52 classes.\n",
            "Using 61461 files for training.\n"
          ]
        },
        {
          "name": "stderr",
          "output_type": "stream",
          "text": [
            "2025-07-08 14:12:00.668078: I metal_plugin/src/device/metal_device.cc:1154] Metal device set to: Apple M4 Max\n",
            "2025-07-08 14:12:00.668108: I metal_plugin/src/device/metal_device.cc:296] systemMemory: 36.00 GB\n",
            "2025-07-08 14:12:00.668110: I metal_plugin/src/device/metal_device.cc:313] maxCacheSize: 13.50 GB\n",
            "2025-07-08 14:12:00.668128: I tensorflow/core/common_runtime/pluggable_device/pluggable_device_factory.cc:305] Could not identify NUMA node of platform GPU ID 0, defaulting to 0. Your kernel may not have been built with NUMA support.\n",
            "2025-07-08 14:12:00.668136: I tensorflow/core/common_runtime/pluggable_device/pluggable_device_factory.cc:271] Created TensorFlow device (/job:localhost/replica:0/task:0/device:GPU:0 with 0 MB memory) -> physical PluggableDevice (device: 0, name: METAL, pci bus id: <undefined>)\n"
          ]
        },
        {
          "name": "stdout",
          "output_type": "stream",
          "text": [
            "Found 76826 files belonging to 52 classes.\n",
            "Using 15365 files for validation.\n",
            "Epoch 1/50\n"
          ]
        },
        {
          "name": "stderr",
          "output_type": "stream",
          "text": [
            "2025-07-08 14:12:03.358862: I tensorflow/core/grappler/optimizers/custom_graph_optimizer_registry.cc:117] Plugin optimizer for device_type GPU is enabled.\n",
            "2025-07-08 14:12:03.360491: E tensorflow/core/grappler/optimizers/meta_optimizer.cc:961] PluggableGraphOptimizer failed: INVALID_ARGUMENT: Failed to deserialize the `graph_buf`.\n"
          ]
        },
        {
          "name": "stdout",
          "output_type": "stream",
          "text": [
            "\u001b[1m1921/1921\u001b[0m \u001b[32m━━━━━━━━━━━━━━━━━━━━\u001b[0m\u001b[37m\u001b[0m \u001b[1m0s\u001b[0m 77ms/step - accuracy: 0.1557 - loss: 3.4212"
          ]
        },
        {
          "name": "stderr",
          "output_type": "stream",
          "text": [
            "2025-07-08 14:14:35.841797: E tensorflow/core/grappler/optimizers/meta_optimizer.cc:961] PluggableGraphOptimizer failed: INVALID_ARGUMENT: Failed to deserialize the `graph_buf`.\n"
          ]
        },
        {
          "name": "stdout",
          "output_type": "stream",
          "text": [
            "\u001b[1m1921/1921\u001b[0m \u001b[32m━━━━━━━━━━━━━━━━━━━━\u001b[0m\u001b[37m\u001b[0m \u001b[1m202s\u001b[0m 103ms/step - accuracy: 0.1557 - loss: 3.4210 - val_accuracy: 0.2911 - val_loss: 2.6711\n",
            "Epoch 2/50\n",
            "\u001b[1m1921/1921\u001b[0m \u001b[32m━━━━━━━━━━━━━━━━━━━━\u001b[0m\u001b[37m\u001b[0m \u001b[1m219s\u001b[0m 112ms/step - accuracy: 0.2983 - loss: 2.5780 - val_accuracy: 0.3535 - val_loss: 2.3415\n",
            "Epoch 3/50\n",
            "\u001b[1m1921/1921\u001b[0m \u001b[32m━━━━━━━━━━━━━━━━━━━━\u001b[0m\u001b[37m\u001b[0m \u001b[1m189s\u001b[0m 96ms/step - accuracy: 0.3822 - loss: 2.2332 - val_accuracy: 0.4112 - val_loss: 2.0811\n",
            "Epoch 4/50\n",
            "\u001b[1m1921/1921\u001b[0m \u001b[32m━━━━━━━━━━━━━━━━━━━━\u001b[0m\u001b[37m\u001b[0m \u001b[1m203s\u001b[0m 103ms/step - accuracy: 0.4243 - loss: 2.0341 - val_accuracy: 0.4440 - val_loss: 1.9422\n",
            "Epoch 5/50\n",
            "\u001b[1m1921/1921\u001b[0m \u001b[32m━━━━━━━━━━━━━━━━━━━━\u001b[0m\u001b[37m\u001b[0m \u001b[1m201s\u001b[0m 102ms/step - accuracy: 0.4553 - loss: 1.9079 - val_accuracy: 0.4551 - val_loss: 1.8849\n",
            "Epoch 6/50\n",
            "\u001b[1m1921/1921\u001b[0m \u001b[32m━━━━━━━━━━━━━━━━━━━━\u001b[0m\u001b[37m\u001b[0m \u001b[1m201s\u001b[0m 103ms/step - accuracy: 0.4708 - loss: 1.8301 - val_accuracy: 0.4892 - val_loss: 1.8033\n",
            "Epoch 7/50\n",
            "\u001b[1m1921/1921\u001b[0m \u001b[32m━━━━━━━━━━━━━━━━━━━━\u001b[0m\u001b[37m\u001b[0m \u001b[1m183s\u001b[0m 93ms/step - accuracy: 0.4871 - loss: 1.7575 - val_accuracy: 0.4809 - val_loss: 1.7681\n",
            "Epoch 8/50\n",
            "\u001b[1m1921/1921\u001b[0m \u001b[32m━━━━━━━━━━━━━━━━━━━━\u001b[0m\u001b[37m\u001b[0m \u001b[1m184s\u001b[0m 94ms/step - accuracy: 0.4968 - loss: 1.7170 - val_accuracy: 0.4913 - val_loss: 1.7497\n",
            "Epoch 9/50\n",
            "\u001b[1m1921/1921\u001b[0m \u001b[32m━━━━━━━━━━━━━━━━━━━━\u001b[0m\u001b[37m\u001b[0m \u001b[1m188s\u001b[0m 96ms/step - accuracy: 0.5128 - loss: 1.6605 - val_accuracy: 0.5047 - val_loss: 1.6816\n",
            "Epoch 10/50\n",
            "\u001b[1m1921/1921\u001b[0m \u001b[32m━━━━━━━━━━━━━━━━━━━━\u001b[0m\u001b[37m\u001b[0m \u001b[1m187s\u001b[0m 95ms/step - accuracy: 0.5165 - loss: 1.6309 - val_accuracy: 0.5189 - val_loss: 1.6183\n",
            "Epoch 11/50\n",
            "\u001b[1m1921/1921\u001b[0m \u001b[32m━━━━━━━━━━━━━━━━━━━━\u001b[0m\u001b[37m\u001b[0m \u001b[1m204s\u001b[0m 104ms/step - accuracy: 0.5253 - loss: 1.5931 - val_accuracy: 0.5189 - val_loss: 1.6190\n",
            "Epoch 12/50\n",
            "\u001b[1m1921/1921\u001b[0m \u001b[32m━━━━━━━━━━━━━━━━━━━━\u001b[0m\u001b[37m\u001b[0m \u001b[1m211s\u001b[0m 108ms/step - accuracy: 0.5356 - loss: 1.5723 - val_accuracy: 0.5205 - val_loss: 1.6005\n",
            "Epoch 13/50\n",
            "\u001b[1m1921/1921\u001b[0m \u001b[32m━━━━━━━━━━━━━━━━━━━━\u001b[0m\u001b[37m\u001b[0m \u001b[1m196s\u001b[0m 100ms/step - accuracy: 0.5384 - loss: 1.5478 - val_accuracy: 0.5211 - val_loss: 1.5827\n",
            "Epoch 14/50\n",
            "\u001b[1m1921/1921\u001b[0m \u001b[32m━━━━━━━━━━━━━━━━━━━━\u001b[0m\u001b[37m\u001b[0m \u001b[1m214s\u001b[0m 109ms/step - accuracy: 0.5462 - loss: 1.5195 - val_accuracy: 0.5199 - val_loss: 1.5988\n",
            "Epoch 15/50\n",
            "\u001b[1m1921/1921\u001b[0m \u001b[32m━━━━━━━━━━━━━━━━━━━━\u001b[0m\u001b[37m\u001b[0m \u001b[1m214s\u001b[0m 110ms/step - accuracy: 0.5501 - loss: 1.5043 - val_accuracy: 0.5447 - val_loss: 1.5084\n",
            "Epoch 16/50\n",
            "\u001b[1m1921/1921\u001b[0m \u001b[32m━━━━━━━━━━━━━━━━━━━━\u001b[0m\u001b[37m\u001b[0m \u001b[1m192s\u001b[0m 98ms/step - accuracy: 0.5578 - loss: 1.4802 - val_accuracy: 0.5358 - val_loss: 1.5676\n",
            "Epoch 17/50\n",
            "\u001b[1m1921/1921\u001b[0m \u001b[32m━━━━━━━━━━━━━━━━━━━━\u001b[0m\u001b[37m\u001b[0m \u001b[1m182s\u001b[0m 93ms/step - accuracy: 0.5623 - loss: 1.4609 - val_accuracy: 0.5501 - val_loss: 1.4982\n",
            "Epoch 18/50\n",
            "\u001b[1m1921/1921\u001b[0m \u001b[32m━━━━━━━━━━━━━━━━━━━━\u001b[0m\u001b[37m\u001b[0m \u001b[1m182s\u001b[0m 93ms/step - accuracy: 0.5676 - loss: 1.4325 - val_accuracy: 0.5572 - val_loss: 1.4620\n",
            "Epoch 19/50\n",
            "\u001b[1m1921/1921\u001b[0m \u001b[32m━━━━━━━━━━━━━━━━━━━━\u001b[0m\u001b[37m\u001b[0m \u001b[1m183s\u001b[0m 93ms/step - accuracy: 0.5705 - loss: 1.4297 - val_accuracy: 0.5561 - val_loss: 1.4958\n",
            "Epoch 20/50\n",
            "\u001b[1m1921/1921\u001b[0m \u001b[32m━━━━━━━━━━━━━━━━━━━━\u001b[0m\u001b[37m\u001b[0m \u001b[1m183s\u001b[0m 93ms/step - accuracy: 0.5737 - loss: 1.4113 - val_accuracy: 0.5627 - val_loss: 1.4628\n",
            "Epoch 21/50\n",
            "\u001b[1m1921/1921\u001b[0m \u001b[32m━━━━━━━━━━━━━━━━━━━━\u001b[0m\u001b[37m\u001b[0m \u001b[1m190s\u001b[0m 97ms/step - accuracy: 0.5812 - loss: 1.3849 - val_accuracy: 0.5698 - val_loss: 1.4382\n",
            "Epoch 22/50\n",
            "\u001b[1m1921/1921\u001b[0m \u001b[32m━━━━━━━━━━━━━━━━━━━━\u001b[0m\u001b[37m\u001b[0m \u001b[1m203s\u001b[0m 103ms/step - accuracy: 0.5817 - loss: 1.3842 - val_accuracy: 0.5558 - val_loss: 1.4486\n",
            "Epoch 23/50\n",
            "\u001b[1m1921/1921\u001b[0m \u001b[32m━━━━━━━━━━━━━━━━━━━━\u001b[0m\u001b[37m\u001b[0m \u001b[1m192s\u001b[0m 98ms/step - accuracy: 0.5822 - loss: 1.3817 - val_accuracy: 0.5828 - val_loss: 1.4075\n",
            "Epoch 24/50\n",
            "\u001b[1m1921/1921\u001b[0m \u001b[32m━━━━━━━━━━━━━━━━━━━━\u001b[0m\u001b[37m\u001b[0m \u001b[1m194s\u001b[0m 99ms/step - accuracy: 0.5923 - loss: 1.3483 - val_accuracy: 0.5851 - val_loss: 1.3793\n",
            "Epoch 25/50\n",
            "\u001b[1m1921/1921\u001b[0m \u001b[32m━━━━━━━━━━━━━━━━━━━━\u001b[0m\u001b[37m\u001b[0m \u001b[1m189s\u001b[0m 96ms/step - accuracy: 0.5954 - loss: 1.3368 - val_accuracy: 0.5795 - val_loss: 1.3928\n",
            "Epoch 26/50\n",
            "\u001b[1m1921/1921\u001b[0m \u001b[32m━━━━━━━━━━━━━━━━━━━━\u001b[0m\u001b[37m\u001b[0m \u001b[1m189s\u001b[0m 96ms/step - accuracy: 0.5960 - loss: 1.3320 - val_accuracy: 0.5817 - val_loss: 1.3871\n",
            "Epoch 27/50\n",
            "\u001b[1m1921/1921\u001b[0m \u001b[32m━━━━━━━━━━━━━━━━━━━━\u001b[0m\u001b[37m\u001b[0m \u001b[1m191s\u001b[0m 97ms/step - accuracy: 0.6004 - loss: 1.3142 - val_accuracy: 0.5930 - val_loss: 1.3547\n",
            "Epoch 28/50\n",
            "\u001b[1m1921/1921\u001b[0m \u001b[32m━━━━━━━━━━━━━━━━━━━━\u001b[0m\u001b[37m\u001b[0m \u001b[1m190s\u001b[0m 97ms/step - accuracy: 0.6008 - loss: 1.3113 - val_accuracy: 0.5939 - val_loss: 1.3322\n",
            "Epoch 29/50\n",
            "\u001b[1m1921/1921\u001b[0m \u001b[32m━━━━━━━━━━━━━━━━━━━━\u001b[0m\u001b[37m\u001b[0m \u001b[1m190s\u001b[0m 97ms/step - accuracy: 0.6046 - loss: 1.3023 - val_accuracy: 0.5915 - val_loss: 1.3599\n",
            "Epoch 30/50\n",
            "\u001b[1m1921/1921\u001b[0m \u001b[32m━━━━━━━━━━━━━━━━━━━━\u001b[0m\u001b[37m\u001b[0m \u001b[1m191s\u001b[0m 97ms/step - accuracy: 0.6039 - loss: 1.2918 - val_accuracy: 0.5933 - val_loss: 1.3307\n",
            "Epoch 31/50\n",
            "\u001b[1m1921/1921\u001b[0m \u001b[32m━━━━━━━━━━━━━━━━━━━━\u001b[0m\u001b[37m\u001b[0m \u001b[1m193s\u001b[0m 98ms/step - accuracy: 0.6074 - loss: 1.2802 - val_accuracy: 0.6046 - val_loss: 1.3273\n",
            "Epoch 32/50\n",
            "\u001b[1m1921/1921\u001b[0m \u001b[32m━━━━━━━━━━━━━━━━━━━━\u001b[0m\u001b[37m\u001b[0m \u001b[1m194s\u001b[0m 99ms/step - accuracy: 0.6116 - loss: 1.2727 - val_accuracy: 0.6021 - val_loss: 1.3273\n",
            "Epoch 33/50\n",
            "\u001b[1m1921/1921\u001b[0m \u001b[32m━━━━━━━━━━━━━━━━━━━━\u001b[0m\u001b[37m\u001b[0m \u001b[1m195s\u001b[0m 99ms/step - accuracy: 0.6134 - loss: 1.2685 - val_accuracy: 0.6096 - val_loss: 1.2940\n",
            "Epoch 34/50\n",
            "\u001b[1m1921/1921\u001b[0m \u001b[32m━━━━━━━━━━━━━━━━━━━━\u001b[0m\u001b[37m\u001b[0m \u001b[1m194s\u001b[0m 99ms/step - accuracy: 0.6152 - loss: 1.2569 - val_accuracy: 0.6008 - val_loss: 1.3011\n",
            "Epoch 35/50\n",
            "\u001b[1m1921/1921\u001b[0m \u001b[32m━━━━━━━━━━━━━━━━━━━━\u001b[0m\u001b[37m\u001b[0m \u001b[1m194s\u001b[0m 99ms/step - accuracy: 0.6194 - loss: 1.2511 - val_accuracy: 0.6070 - val_loss: 1.2956\n",
            "Epoch 36/50\n",
            "\u001b[1m1921/1921\u001b[0m \u001b[32m━━━━━━━━━━━━━━━━━━━━\u001b[0m\u001b[37m\u001b[0m \u001b[1m193s\u001b[0m 98ms/step - accuracy: 0.6165 - loss: 1.2541 - val_accuracy: 0.6046 - val_loss: 1.3075\n",
            "Epoch 37/50\n",
            "\u001b[1m1921/1921\u001b[0m \u001b[32m━━━━━━━━━━━━━━━━━━━━\u001b[0m\u001b[37m\u001b[0m \u001b[1m191s\u001b[0m 97ms/step - accuracy: 0.6204 - loss: 1.2390 - val_accuracy: 0.6172 - val_loss: 1.2716\n",
            "Epoch 38/50\n",
            "\u001b[1m1921/1921\u001b[0m \u001b[32m━━━━━━━━━━━━━━━━━━━━\u001b[0m\u001b[37m\u001b[0m \u001b[1m189s\u001b[0m 96ms/step - accuracy: 0.6214 - loss: 1.2378 - val_accuracy: 0.5850 - val_loss: 1.3595\n",
            "Epoch 39/50\n",
            "\u001b[1m1921/1921\u001b[0m \u001b[32m━━━━━━━━━━━━━━━━━━━━\u001b[0m\u001b[37m\u001b[0m \u001b[1m189s\u001b[0m 96ms/step - accuracy: 0.6226 - loss: 1.2272 - val_accuracy: 0.6145 - val_loss: 1.2673\n",
            "Epoch 40/50\n",
            "\u001b[1m1921/1921\u001b[0m \u001b[32m━━━━━━━━━━━━━━━━━━━━\u001b[0m\u001b[37m\u001b[0m \u001b[1m188s\u001b[0m 96ms/step - accuracy: 0.6223 - loss: 1.2263 - val_accuracy: 0.6052 - val_loss: 1.2959\n",
            "Epoch 41/50\n",
            "\u001b[1m1921/1921\u001b[0m \u001b[32m━━━━━━━━━━━━━━━━━━━━\u001b[0m\u001b[37m\u001b[0m \u001b[1m189s\u001b[0m 96ms/step - accuracy: 0.6319 - loss: 1.2013 - val_accuracy: 0.6112 - val_loss: 1.2940\n",
            "Epoch 42/50\n",
            "\u001b[1m1921/1921\u001b[0m \u001b[32m━━━━━━━━━━━━━━━━━━━━\u001b[0m\u001b[37m\u001b[0m \u001b[1m192s\u001b[0m 98ms/step - accuracy: 0.6309 - loss: 1.2012 - val_accuracy: 0.5973 - val_loss: 1.3210\n",
            "Epoch 43/50\n",
            "\u001b[1m1921/1921\u001b[0m \u001b[32m━━━━━━━━━━━━━━━━━━━━\u001b[0m\u001b[37m\u001b[0m \u001b[1m193s\u001b[0m 98ms/step - accuracy: 0.6346 - loss: 1.1961 - val_accuracy: 0.5811 - val_loss: 1.3644\n",
            "Epoch 44/50\n",
            "\u001b[1m1921/1921\u001b[0m \u001b[32m━━━━━━━━━━━━━━━━━━━━\u001b[0m\u001b[37m\u001b[0m \u001b[1m193s\u001b[0m 98ms/step - accuracy: 0.6319 - loss: 1.1913 - val_accuracy: 0.6247 - val_loss: 1.2449\n",
            "Epoch 45/50\n",
            "\u001b[1m1921/1921\u001b[0m \u001b[32m━━━━━━━━━━━━━━━━━━━━\u001b[0m\u001b[37m\u001b[0m \u001b[1m197s\u001b[0m 100ms/step - accuracy: 0.6383 - loss: 1.1741 - val_accuracy: 0.5985 - val_loss: 1.3191\n",
            "Epoch 46/50\n",
            "\u001b[1m1921/1921\u001b[0m \u001b[32m━━━━━━━━━━━━━━━━━━━━\u001b[0m\u001b[37m\u001b[0m \u001b[1m196s\u001b[0m 100ms/step - accuracy: 0.6356 - loss: 1.1924 - val_accuracy: 0.6154 - val_loss: 1.2516\n",
            "Epoch 47/50\n",
            "\u001b[1m1921/1921\u001b[0m \u001b[32m━━━━━━━━━━━━━━━━━━━━\u001b[0m\u001b[37m\u001b[0m \u001b[1m198s\u001b[0m 101ms/step - accuracy: 0.6395 - loss: 1.1814 - val_accuracy: 0.6047 - val_loss: 1.2868\n",
            "Epoch 48/50\n",
            "\u001b[1m1921/1921\u001b[0m \u001b[32m━━━━━━━━━━━━━━━━━━━━\u001b[0m\u001b[37m\u001b[0m \u001b[1m195s\u001b[0m 99ms/step - accuracy: 0.6405 - loss: 1.1742 - val_accuracy: 0.5896 - val_loss: 1.3333\n",
            "Epoch 49/50\n",
            "\u001b[1m1921/1921\u001b[0m \u001b[32m━━━━━━━━━━━━━━━━━━━━\u001b[0m\u001b[37m\u001b[0m \u001b[1m191s\u001b[0m 97ms/step - accuracy: 0.6420 - loss: 1.1669 - val_accuracy: 0.6113 - val_loss: 1.2574\n",
            "Epoch 50/50\n",
            "\u001b[1m1921/1921\u001b[0m \u001b[32m━━━━━━━━━━━━━━━━━━━━\u001b[0m\u001b[37m\u001b[0m \u001b[1m196s\u001b[0m 100ms/step - accuracy: 0.6397 - loss: 1.1662 - val_accuracy: 0.6271 - val_loss: 1.2371\n"
          ]
        }
      ],
      "source": [
        "IMG_SIZE = (224, 224)\n",
        "BATCH_SIZE = 32\n",
        "DATASET_DIR = \"/Users/rohit/Desktop/UOA_ML_Project/CropAndWeed/crop_and_weed/extracted_patches/processed_crops_v2\"\n",
        "\n",
        "train_ds = tf.keras.utils.image_dataset_from_directory(\n",
        "    DATASET_DIR,\n",
        "    validation_split=0.2,\n",
        "    subset=\"training\",\n",
        "    seed=123,\n",
        "    image_size=IMG_SIZE,\n",
        "    batch_size=BATCH_SIZE,\n",
        "    label_mode='int'  # use 'categorical' if labels are one-hot\n",
        ")\n",
        "\n",
        "test_ds = tf.keras.utils.image_dataset_from_directory(\n",
        "    DATASET_DIR,\n",
        "    validation_split=0.2,\n",
        "    subset=\"validation\",\n",
        "    seed=123,\n",
        "    image_size=IMG_SIZE,\n",
        "    batch_size=BATCH_SIZE,\n",
        "    label_mode='int'\n",
        ")\n",
        "\n",
        "# Normalize\n",
        "def normalize(image, label):\n",
        "    image = tf.cast(image, tf.float32) / 255.0\n",
        "    return image, label\n",
        "\n",
        "train_ds = train_ds.map(normalize).shuffle(1000).prefetch(tf.data.AUTOTUNE)\n",
        "test_ds = test_ds.map(normalize).prefetch(tf.data.AUTOTUNE)\n",
        "\n",
        "# Model\n",
        "base_model = tf.keras.applications.ResNet50(\n",
        "    input_shape=(224, 224, 3),\n",
        "    include_top=False,\n",
        "    weights=\"imagenet\"\n",
        ")\n",
        "base_model.trainable = False\n",
        "\n",
        "from tensorflow.keras import layers, models\n",
        "\n",
        "model = models.Sequential([\n",
        "    base_model,\n",
        "    layers.GlobalAveragePooling2D(),\n",
        "    layers.Dense(128, activation='relu'),\n",
        "    layers.Dense(train_ds.cardinality().numpy(), activation='softmax')  # OR use `len(class_names)`\n",
        "])\n",
        "\n",
        "model.compile(\n",
        "    optimizer='adam',\n",
        "    loss='sparse_categorical_crossentropy',\n",
        "    metrics=['accuracy']\n",
        ")\n",
        "\n",
        "# Early stopping\n",
        "from tensorflow.keras.callbacks import EarlyStopping\n",
        "early_stopping = EarlyStopping(monitor='val_loss', patience=5, restore_best_weights=True)\n",
        "\n",
        "# ✅ Train\n",
        "history = model.fit(train_ds, validation_data=test_ds, epochs=50)\n"
      ]
    },
    {
      "cell_type": "code",
      "execution_count": null,
      "id": "ce2876ea-8864-4eba-8e1c-4880f09a3d5b",
      "metadata": {
        "id": "ce2876ea-8864-4eba-8e1c-4880f09a3d5b"
      },
      "outputs": [],
      "source": []
    }
  ],
  "metadata": {
    "kernelspec": {
      "display_name": "Python 3 (ipykernel)",
      "language": "python",
      "name": "python3"
    },
    "language_info": {
      "codemirror_mode": {
        "name": "ipython",
        "version": 3
      },
      "file_extension": ".py",
      "mimetype": "text/x-python",
      "name": "python",
      "nbconvert_exporter": "python",
      "pygments_lexer": "ipython3",
      "version": "3.10.15"
    },
    "colab": {
      "provenance": []
    }
  },
  "nbformat": 4,
  "nbformat_minor": 5
}